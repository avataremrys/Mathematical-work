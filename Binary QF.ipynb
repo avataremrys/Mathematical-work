{
 "cells": [
  {
   "cell_type": "code",
   "execution_count": 3,
   "id": "427c7723",
   "metadata": {},
   "outputs": [
    {
     "name": "stdout",
     "output_type": "stream",
     "text": [
      "Class number h(D) =  4\n"
     ]
    }
   ],
   "source": [
    "#Calculate class number and primitive reduced forms of negative discriminant\n",
    "\n",
    "import math\n",
    "\n",
    "def generate_reduced_forms(D):\n",
    "    reduced_forms = []\n",
    "\n",
    "    p = D % 2\n",
    "    for a in range(1, int((abs(D)/3)**0.5 + 1)):\n",
    "        for b in range(-a + 1, a+1):\n",
    "            c = (b**2 - D) // (4*a)\n",
    "            if 4*a*c == b**2 - D and c > 0 and a <= c and math.gcd(a, b, c) == 1:\n",
    "                if b >= 0:\n",
    "                    reduced_forms.append((a, b, c))\n",
    "                elif b < 0:\n",
    "                    if abs(b) == a or a == c:\n",
    "                        b = b\n",
    "                    else: reduced_forms.append((a, b, c))\n",
    "\n",
    "    return reduced_forms\n",
    "\n",
    "D = -128\n",
    "reduced_forms = generate_reduced_forms(D)\n",
    "h = len(reduced_forms)\n",
    "\n",
    "#print(\"The primitive reduced forms are: \", reduced_forms)\n",
    "print(\"Class number h(D) = \", h)"
   ]
  },
  {
   "cell_type": "code",
   "execution_count": 5,
   "id": "c01967fb",
   "metadata": {},
   "outputs": [],
   "source": [
    "#To find all the values modulo D of a form f = (a, b, c)\n",
    "\n",
    "import math\n",
    "\n",
    "def find_mod_D(D, a, b, c):\n",
    "    mod_D = set()\n",
    "\n",
    "    for x in range(D):\n",
    "        for y in range(D):\n",
    "            value = (a * x * x + b * x * y + c * y * y) % D\n",
    "            if math.gcd(value, D) == 1:\n",
    "                mod_D.add(value)\n",
    "\n",
    "    return sorted(mod_D)  "
   ]
  },
  {
   "cell_type": "code",
   "execution_count": 6,
   "id": "6b407d59",
   "metadata": {},
   "outputs": [
    {
     "name": "stdout",
     "output_type": "stream",
     "text": [
      "\n",
      "Genus corresponding to the values [1, 9, 17, 25, 33, 41, 49, 57, 65, 73, 81, 89, 97, 105, 113, 121]:\n",
      "(1, 0, 32)\n",
      "(4, 4, 9)\n",
      "\n",
      "Genus corresponding to the values [3, 11, 19, 27, 35, 43, 51, 59, 67, 75, 83, 91, 99, 107, 115, 123]:\n",
      "(3, -2, 11)\n",
      "(3, 2, 11)\n"
     ]
    }
   ],
   "source": [
    "# Classify into Genera\n",
    "\n",
    "mod_forms = []\n",
    "mod_values = []\n",
    "\n",
    "def append_unique(array, element):\n",
    "    if element not in array:\n",
    "        array.append(element)\n",
    "\n",
    "for i in range(h):\n",
    "    a = reduced_forms[i][0]\n",
    "    b = reduced_forms[i][1]\n",
    "    c = reduced_forms[i][2]\n",
    "    D = abs(D)\n",
    "    result = find_mod_D(D, a, b, c)\n",
    "    append_unique(mod_values, result)\n",
    "    mod_forms.append((reduced_forms[i], result))\n",
    "\n",
    "genera = [[] for _ in range(len(mod_values))]  # Initialize genera with empty lists\n",
    "\n",
    "for i in range(h):\n",
    "    for k in range(len(mod_values)):\n",
    "        if mod_forms[i][1] == mod_values[k]:\n",
    "            append_unique(genera[k], mod_forms[i][0])\n",
    "\n",
    "# Print the genera\n",
    "for i, genus in enumerate(genera):\n",
    "    print()\n",
    "    print(f\"Genus corresponding to the values {mod_values[i]}:\")\n",
    "    for form in genus:\n",
    "        print(form)"
   ]
  },
  {
   "cell_type": "code",
   "execution_count": null,
   "id": "6cfc9b85",
   "metadata": {},
   "outputs": [],
   "source": []
  }
 ],
 "metadata": {
  "kernelspec": {
   "display_name": "Python 3 (ipykernel)",
   "language": "python",
   "name": "python3"
  },
  "language_info": {
   "codemirror_mode": {
    "name": "ipython",
    "version": 3
   },
   "file_extension": ".py",
   "mimetype": "text/x-python",
   "name": "python",
   "nbconvert_exporter": "python",
   "pygments_lexer": "ipython3",
   "version": "3.9.12"
  }
 },
 "nbformat": 4,
 "nbformat_minor": 5
}
